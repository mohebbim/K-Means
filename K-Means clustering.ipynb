{
 "cells": [
  {
   "cell_type": "markdown",
   "metadata": {},
   "source": [
    "### Implementation of K-means clustering algorithm\n",
    "This works shows the implementation of k-means clustering from scratch.\n",
    "Using numpy for vectorized calculation\n",
    "csv to read in our file\n",
    "matpplotlib to visualize the results "
   ]
  },
  {
   "cell_type": "markdown",
   "metadata": {},
   "source": [
    "step1 import libraries"
   ]
  },
  {
   "cell_type": "code",
   "execution_count": 1,
   "metadata": {},
   "outputs": [],
   "source": [
    "import numpy as np\n",
    "import csv\n",
    "import matplotlib.pyplot as plt\n",
    "%matplotlib inline"
   ]
  },
  {
   "cell_type": "markdown",
   "metadata": {},
   "source": [
    "read in our file and find out how many clusters are needed :)"
   ]
  },
  {
   "cell_type": "code",
   "execution_count": 2,
   "metadata": {},
   "outputs": [
    {
     "name": "stdout",
     "output_type": "stream",
     "text": [
      "(100, 2)\n",
      "enter number of clusters: 4\n"
     ]
    }
   ],
   "source": [
    "def file_reader():\n",
    "    file = open(r\"k.csv\")\n",
    "    reader = csv.reader(file)\n",
    "    data = list(reader)\n",
    "    file.close()\n",
    "    return data\n",
    "data = np.asarray(file_reader(), dtype=float)\n",
    "print(data.shape)\n",
    "k = int(input('enter number of clusters: ') )# number of clusters\n"
   ]
  },
  {
   "cell_type": "markdown",
   "metadata": {},
   "source": [
    "Randomize initial centroids"
   ]
  },
  {
   "cell_type": "code",
   "execution_count": 4,
   "metadata": {},
   "outputs": [],
   "source": [
    "def randomize_centroids(data, centroids, k):\n",
    "    for cluster in range(0, k):\n",
    "        centroids.append(data[np.random.randint(0, len(data), size=1)].flatten().tolist())\n",
    "        # print('Initial_centroids',centroids)\n",
    "    return centroids\n"
   ]
  },
  {
   "cell_type": "markdown",
   "metadata": {},
   "source": [
    "helper method to let us know if the clusters have converged"
   ]
  },
  {
   "cell_type": "code",
   "execution_count": 5,
   "metadata": {},
   "outputs": [],
   "source": [
    "def has_converged(centroids, old_centroids, iterations):\n",
    "    MAX_ITERATIONS = 1000\n",
    "    if iterations > MAX_ITERATIONS:\n",
    "        return True\n",
    "    return old_centroids == centroids"
   ]
  },
  {
   "cell_type": "markdown",
   "metadata": {},
   "source": [
    "Method for calculating euclidean distance between data points with respect to available centroids"
   ]
  },
  {
   "cell_type": "markdown",
   "metadata": {},
   "source": [
    "![euclidean_distance](ed0.png \"euclidean distance\")"
   ]
  },
  {
   "cell_type": "code",
   "execution_count": 6,
   "metadata": {},
   "outputs": [],
   "source": [
    "def euclidean_dist(data, centroids, clusters):\n",
    "    for instance in data:\n",
    "        # Find which centroid is the closest\n",
    "        # to the given data point.\n",
    "        # print('instance',instance)\n",
    "        # print('centroids',centroids)\n",
    "        mu_index = min([(i[0], np.linalg.norm(instance-centroids[i[0]])) \\\n",
    "                            for i in enumerate(centroids)], key=lambda t:t[1])[0]\n",
    "        try:\n",
    "            clusters[mu_index].append(instance)\n",
    "        except KeyError:\n",
    "            clusters[mu_index] = [instance]\n",
    "\n",
    "    # If any cluster is empty then assign one point\n",
    "    # from data set randomly so as to not have empty\n",
    "    # clusters and 0 means.\n",
    "    for cluster in clusters:\n",
    "        if not cluster:\n",
    "            cluster.append(data[np.random.randint(0, len(data), size=1)].flatten().tolist())\n",
    "\n",
    "    return clusters"
   ]
  },
  {
   "cell_type": "markdown",
   "metadata": {},
   "source": [
    "Final pipeline to categorize our data"
   ]
  },
  {
   "cell_type": "code",
   "execution_count": 7,
   "metadata": {},
   "outputs": [],
   "source": [
    "def kmeans(data, k):\n",
    "\n",
    "    centroids = []\n",
    "    centroids = randomize_centroids(data, centroids, k)\n",
    "\n",
    "    old_centroids = [[] for i in range(k)]\n",
    "    iterations = 0\n",
    "    while not (has_converged(centroids, old_centroids, iterations)):\n",
    "        iterations += 1\n",
    "\n",
    "        clusters = [[] for i in range(k)]\n",
    "\n",
    "        # assign data points to clusters\n",
    "        clusters = euclidean_dist(data, centroids, clusters)\n",
    "\n",
    "        # recalculate centroids\n",
    "        index = 0\n",
    "        for cluster in clusters:\n",
    "            old_centroids[index] = centroids[index]\n",
    "            centroids[index] = np.mean(cluster, axis=0).tolist()\n",
    "            index += 1\n",
    "            # print('oldcenroids' + str(old_centroids))\n",
    "    centroids = np.asarray(centroids,dtype=float)\n",
    "    print(\"The total number of data data-points is: \" + str(len(data)))\n",
    "    print(\"The total number of iterations necessary is: \" + str(iterations))\n",
    "    print(\"The means of each cluster are: \" + str(centroids))\n",
    "    print(\"\\n The clusters are as follows:\\n\")\n",
    "    for cluster in clusters:\n",
    "        print (cluster)\n",
    "    return centroids\n"
   ]
  },
  {
   "cell_type": "markdown",
   "metadata": {},
   "source": [
    "run the method"
   ]
  },
  {
   "cell_type": "code",
   "execution_count": 8,
   "metadata": {},
   "outputs": [
    {
     "name": "stdout",
     "output_type": "stream",
     "text": [
      "The total number of data data-points is: 100\n",
      "The total number of iterations necessary is: 6\n",
      "The means of each cluster are: [[41.7        42.9       ]\n",
      " [47.25925926 85.96296296]\n",
      " [84.33333333 43.6       ]\n",
      " [79.         83.26086957]]\n",
      "\n",
      " The clusters are as follows:\n",
      "\n",
      "[array([52., 47.]), array([53., 26.]), array([25., 36.]), array([45., 49.]), array([41., 36.]), array([51., 43.]), array([36., 61.]), array([54., 51.]), array([43., 41.]), array([26., 49.]), array([30., 48.]), array([37., 59.]), array([33., 28.]), array([37., 51.]), array([50., 53.]), array([29., 28.]), array([54., 61.]), array([34., 33.]), array([56., 29.]), array([48., 29.])]\n",
      "[array([ 29., 100.]), array([48., 97.]), array([49., 97.]), array([44., 74.]), array([45., 66.]), array([47., 81.]), array([46., 97.]), array([54., 79.]), array([40., 98.]), array([43., 90.]), array([57., 94.]), array([36., 89.]), array([59., 70.]), array([54., 88.]), array([61., 89.]), array([51., 97.]), array([48., 98.]), array([40., 92.]), array([46., 87.]), array([50., 76.]), array([59., 92.]), array([39., 98.]), array([25., 88.]), array([48., 71.]), array([55., 72.]), array([58., 75.]), array([45., 66.])]\n",
      "[array([78., 33.]), array([74., 26.]), array([92., 59.]), array([85., 38.]), array([80., 31.]), array([95., 27.]), array([71., 50.]), array([80., 47.]), array([74., 45.]), array([87., 63.]), array([79., 53.]), array([90., 51.]), array([84., 53.]), array([96., 55.]), array([66., 27.]), array([72., 58.]), array([97., 52.]), array([93., 31.]), array([82., 60.]), array([80., 61.]), array([81., 33.]), array([98., 44.]), array([87., 51.]), array([94., 47.]), array([95., 44.]), array([76., 41.]), array([89., 26.]), array([96., 37.]), array([84., 35.]), array([75., 30.])]\n",
      "[array([80., 91.]), array([71., 85.]), array([91., 99.]), array([87., 75.]), array([74., 66.]), array([72., 82.]), array([95., 73.]), array([80., 93.]), array([94., 88.]), array([83., 97.]), array([76., 87.]), array([68., 97.]), array([85., 83.]), array([68., 67.]), array([ 73., 100.]), array([73., 77.]), array([71., 86.]), array([76., 63.]), array([81., 87.]), array([91., 80.]), array([95., 74.]), array([67., 83.]), array([66., 82.])]\n"
     ]
    }
   ],
   "source": [
    "centroids = kmeans(data,k)"
   ]
  },
  {
   "cell_type": "markdown",
   "metadata": {},
   "source": [
    "plot the results"
   ]
  },
  {
   "cell_type": "code",
   "execution_count": 9,
   "metadata": {},
   "outputs": [
    {
     "data": {
      "image/png": "[encoded data removed]",
      "text/plain": [
       "<matplotlib.figure.Figure at 0x1f658b3ca20>"
      ]
     },
     "metadata": {},
     "output_type": "display_data"
    }
   ],
   "source": [
    "fig = plt.figure()\n",
    "x = data[:,0]\n",
    "y = data[:,1]\n",
    "plt.scatter(x,y)\n",
    "\n",
    "cent_x = centroids [:,0]\n",
    "cent_y = centroids [:,1]\n",
    "plt.scatter(cent_x,cent_y,s=100,marker='x',c='r')\n",
    "\n",
    "plt.show()"
   ]
  }
 ],
 "metadata": {
  "kernelspec": {
   "display_name": "Python 3",
   "language": "python",
   "name": "python3"
  },
  "language_info": {
   "codemirror_mode": {
    "name": "ipython",
    "version": 3
   },
   "file_extension": ".py",
   "mimetype": "text/x-python",
   "name": "python",
   "nbconvert_exporter": "python",
   "pygments_lexer": "ipython3",
   "version": "3.5.2"
  }
 },
 "nbformat": 4,
 "nbformat_minor": 2
}
